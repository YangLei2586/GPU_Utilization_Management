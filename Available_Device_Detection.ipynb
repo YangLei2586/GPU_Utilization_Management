{
 "cells": [
  {
   "cell_type": "code",
   "execution_count": null,
   "metadata": {},
   "outputs": [],
   "source": [
    "def get_available_device(max_memory=0.8):\n",
    "    \"\"\"\n",
    "    select available device based on the memory utilization status of the device\n",
    "    :param max_memory: the maximum memory utilization ratio that is considered available \n",
    "    :return: GPU ID that is available, -1 means no GPU is available and use CPU, if GPUtil Package is\n",
    "    :not installed will return 0\n",
    "    \"\"\"\n",
    "    \n",
    "    try:\n",
    "        import GPUtil\n",
    "    except:\n",
    "        return 0\n",
    "    \n",
    "    GPUs = GPUtil.getGPUs()\n",
    "    freeMemory = 0\n",
    "    available = -1 \n",
    "    \n",
    "    for GPU in GPUs:\n",
    "        if GPU.memoryUtil > max_memory:\n",
    "            contine\n",
    "        if GPU.memoryFree >= freeMemory:\n",
    "            freeMemory = GPU.memoryFree\n",
    "            available = GPU.id\n",
    "            \n",
    "    return available "
   ]
  }
 ],
 "metadata": {
  "kernelspec": {
   "display_name": "Python 3",
   "language": "python",
   "name": "python3"
  },
  "language_info": {
   "codemirror_mode": {
    "name": "ipython",
    "version": 3
   },
   "file_extension": ".py",
   "mimetype": "text/x-python",
   "name": "python",
   "nbconvert_exporter": "python",
   "pygments_lexer": "ipython3",
   "version": "3.8.5"
  }
 },
 "nbformat": 4,
 "nbformat_minor": 4
}
