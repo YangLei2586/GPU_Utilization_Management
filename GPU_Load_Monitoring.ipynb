{
 "cells": [
  {
   "cell_type": "code",
   "execution_count": null,
   "metadata": {},
   "outputs": [],
   "source": [
    "import GPUtil\n",
    "import logging \n",
    "\n",
    "def gpu_load(wproc=0.5, wmem=0.5):\n",
    "    \n",
    "    \"\"\"\n",
    "    return a list of name tuples representing the current load for each GPU device. The processor and memory loads are fractions\n",
    "    between 0 and 1. The weighted load represents a weighted average of processor and memory loads using the parameters 'wproc' \n",
    "    and 'wmem' respectively\n",
    "    \n",
    "    \"\"\"\n",
    "    GPULoad = namedtuple('GPULoad',['processor','memory','weighted'])\n",
    "    gpus = GPUtil.getGPUs()\n",
    "    load = [ ]\n",
    "    \n",
    "    for g in gpus:\n",
    "        wload = (wproc * g.load + wmem * g.memoryUtil) / (wproc + wmem)\n",
    "        load.append(GPULoad(g.load, g.memoryUtil, wload))\n",
    "    \n",
    "    return load"
   ]
  }
 ],
 "metadata": {
  "kernelspec": {
   "display_name": "Python 3",
   "language": "python",
   "name": "python3"
  },
  "language_info": {
   "codemirror_mode": {
    "name": "ipython",
    "version": 3
   },
   "file_extension": ".py",
   "mimetype": "text/x-python",
   "name": "python",
   "nbconvert_exporter": "python",
   "pygments_lexer": "ipython3",
   "version": "3.8.5"
  }
 },
 "nbformat": 4,
 "nbformat_minor": 4
}
