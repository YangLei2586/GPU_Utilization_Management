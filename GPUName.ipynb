{
 "cells": [
  {
   "cell_type": "code",
   "execution_count": null,
   "metadata": {},
   "outputs": [],
   "source": [
    "# the class is created to detect and return the first valiable GPU name\n",
    "\n",
    "import GPUtil\n",
    "import logging\n",
    "\n",
    "def gpuname():\n",
    "    \"\"\"return the model name of the first available GPU\n",
    "    \"\"\"\n",
    "    try:\n",
    "        gpus = GPUtil.getGPUs()\n",
    "    except:\n",
    "        Logger.warning(\"Unable to detect GPU model. Is your GPU configured? Are you running with nvidia-docker?\")\n",
    "        return \"UNKNOWN\"\n",
    "    if len(gpus)== 0:\n",
    "        raise ValueError(\"No GPUs detected in the system\")\n",
    "    return gpus[0].name"
   ]
  }
 ],
 "metadata": {
  "kernelspec": {
   "display_name": "Python 3",
   "language": "python",
   "name": "python3"
  },
  "language_info": {
   "codemirror_mode": {
    "name": "ipython",
    "version": 3
   },
   "file_extension": ".py",
   "mimetype": "text/x-python",
   "name": "python",
   "nbconvert_exporter": "python",
   "pygments_lexer": "ipython3",
   "version": "3.8.5"
  }
 },
 "nbformat": 4,
 "nbformat_minor": 4
}
